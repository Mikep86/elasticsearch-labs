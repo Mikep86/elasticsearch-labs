{
 "cells": [
  {
   "cell_type": "markdown",
   "source": [
    "# Semantic Search with Semantic Text\n",
    "\n",
    "Learn how to use the [semantic_text](https://www.elastic.co/guide/en/elasticsearch/reference/current/semantic-text.html) field type to quickly get started with semantic search."
   ],
   "metadata": {
    "collapsed": false
   },
   "id": "c2907fddfeac343a"
  },
  {
   "cell_type": "markdown",
   "source": [
    "# Requirements\n",
    "\n",
    "For this example, you will need:\n",
    "\n",
    "- An Elastic deployment:\n",
    "  - We'll be using [Elastic Cloud](https://www.elastic.co/guide/en/cloud/current/ec-getting-started.html) for this example (available with a [free trial](https://cloud.elastic.co/registration?utm_source=github&utm_content=elasticsearch-labs-notebook))\n",
    "\n",
    "- Elasticsearch 8.15 or above, or Elasticsearch serverless"
   ],
   "metadata": {
    "collapsed": false
   },
   "id": "3db37d2cf8264468"
  },
  {
   "cell_type": "markdown",
   "source": [
    "# Create Elastic Cloud deployment\n",
    "\n",
    "If you don't have an Elastic Cloud deployment, sign up [here](https://cloud.elastic.co/registration?utm_source=github&utm_content=elasticsearch-labs-notebook) for a free trial."
   ],
   "metadata": {
    "collapsed": false
   },
   "id": "7fe1ed0703a8d1d3"
  },
  {
   "cell_type": "markdown",
   "source": [
    "# Install packages and connect with Elasticsearch Client\n",
    "\n",
    "To get started, we'll need to connect to our Elastic deployment using the Python client (version 8.15.0 or above).\n",
    "Because we're using an Elastic Cloud deployment, we'll use the **Cloud ID** to identify our deployment.\n",
    "\n",
    "First we need to `pip` install the following packages:\n",
    "\n",
    "- `elasticsearch`"
   ],
   "metadata": {
    "collapsed": false
   },
   "id": "f9c8bd62c8241f90"
  },
  {
   "cell_type": "code",
   "execution_count": null,
   "outputs": [],
   "source": [
    "!pip install elasticsearch"
   ],
   "metadata": {
    "collapsed": false
   },
   "id": "13fdf7656ced2da3"
  },
  {
   "cell_type": "markdown",
   "source": [
    "Next, we need to import the modules we need. \n",
    "\n",
    "🔐 NOTE: getpass enables us to securely prompt the user for credentials without echoing them to the terminal, or storing it in memory."
   ],
   "metadata": {
    "collapsed": false
   },
   "id": "9d54b112361d2f3d"
  },
  {
   "cell_type": "code",
   "execution_count": null,
   "outputs": [],
   "source": [
    "from elasticsearch import Elasticsearch, helpers, exceptions\n",
    "from urllib.request import urlopen\n",
    "from getpass import getpass\n",
    "import json\n",
    "import time"
   ],
   "metadata": {
    "collapsed": false
   },
   "id": "9a60627704e77ff6"
  },
  {
   "cell_type": "markdown",
   "source": [
    "Now we can instantiate the Python Elasticsearch client.\n",
    "\n",
    "First we prompt the user for their password and Cloud ID.\n",
    "Then we create a `client` object that instantiates an instance of the `Elasticsearch` class."
   ],
   "metadata": {
    "collapsed": false
   },
   "id": "eb9498124146d8bb"
  },
  {
   "cell_type": "code",
   "execution_count": null,
   "outputs": [],
   "source": [
    "# https://www.elastic.co/search-labs/tutorials/install-elasticsearch/elastic-cloud#finding-your-cloud-id\n",
    "ELASTIC_CLOUD_ID = getpass(\"Elastic Cloud ID: \")\n",
    "\n",
    "# https://www.elastic.co/search-labs/tutorials/install-elasticsearch/elastic-cloud#creating-an-api-key\n",
    "ELASTIC_API_KEY = getpass(\"Elastic Api Key: \")\n",
    "\n",
    "# Create the client instance\n",
    "client = Elasticsearch(\n",
    "    # For local development\n",
    "    # hosts=[\"http://localhost:9200\"]\n",
    "    cloud_id=ELASTIC_CLOUD_ID,\n",
    "    api_key=ELASTIC_API_KEY,\n",
    ")"
   ],
   "metadata": {
    "collapsed": false
   },
   "id": "6e14437dcce0f235"
  },
  {
   "cell_type": "markdown",
   "source": [
    "### Enable Telemetry\n",
    "\n",
    "Knowing that you are using this notebook helps us decide where to invest our efforts to improve our products. We would like to ask you that you run the following code to let us gather anonymous usage statistics. See [telemetry.py](https://github.com/elastic/elasticsearch-labs/blob/main/telemetry/telemetry.py) for details. Thank you!"
   ],
   "metadata": {
    "collapsed": false
   },
   "id": "89b6b7721f6d8599"
  },
  {
   "cell_type": "code",
   "execution_count": null,
   "outputs": [],
   "source": [
    "!curl -O -s https://raw.githubusercontent.com/elastic/elasticsearch-labs/main/telemetry/telemetry.py\n",
    "from telemetry import enable_telemetry\n",
    "\n",
    "client = enable_telemetry(client, \"09-semantic-text\")"
   ],
   "metadata": {
    "collapsed": false
   },
   "id": "5a7af618fb61f358"
  },
  {
   "cell_type": "markdown",
   "source": [
    "### Test the Client\n",
    "Before you continue, confirm that the client has connected with this test."
   ],
   "metadata": {
    "collapsed": false
   },
   "id": "cbbdaf9118a97732"
  },
  {
   "cell_type": "code",
   "execution_count": null,
   "outputs": [],
   "source": [
    "print(client.info())"
   ],
   "metadata": {
    "collapsed": false
   },
   "id": "4cb0685fae12e034"
  },
  {
   "cell_type": "markdown",
   "source": [
    "Refer to [the documentation](https://www.elastic.co/guide/en/elasticsearch/client/python-api/current/connecting.html#connect-self-managed-new) to learn how to connect to a self-managed deployment.\n",
    "\n",
    "Read [this page](https://www.elastic.co/guide/en/elasticsearch/client/python-api/current/connecting.html#connect-self-managed-new) to learn how to connect using API keys."
   ],
   "metadata": {
    "collapsed": false
   },
   "id": "59e2223bf2c4331"
  }
 ],
 "metadata": {
  "kernelspec": {
   "display_name": "Python 3",
   "language": "python",
   "name": "python3"
  },
  "language_info": {
   "codemirror_mode": {
    "name": "ipython",
    "version": 2
   },
   "file_extension": ".py",
   "mimetype": "text/x-python",
   "name": "python",
   "nbconvert_exporter": "python",
   "pygments_lexer": "ipython2",
   "version": "2.7.6"
  }
 },
 "nbformat": 4,
 "nbformat_minor": 5
}
