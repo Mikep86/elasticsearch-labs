{
  "cells": [
    {
      "cell_type": "markdown",
      "metadata": {
        "id": "87773ce7"
      },
      "source": [
        "# Synonyms API quick start\n",
        "\n",
        "<a target=\"_blank\" href=\"https://colab.research.google.com/github/Mikep86/elasticsearch-labs/blob/synonyms-api-notebook/notebooks/search/06-synonymys-api.ipynb\"><img src=\"https://colab.research.google.com/assets/colab-badge.svg\" alt=\"Open In Colab\"/></a>\n",
        "\n",
        "This interactive notebook will introduce you to the Synonyms API ([blog post](https://www.elastic.co/blog/update-synonyms-elasticsearch-introducing-synonyms-api), [API documentation](https://www.elastic.co/guide/en/elasticsearch/reference/current/synonyms-apis.html)) using the official [Elasticsearch Python client](https://www.elastic.co/guide/en/elasticsearch/client/python-api/current/connecting.html). Synonyms allow you to enhance search relevancy by defining relationships between terms that have the similar meanings. In this notebook, you'll create & update synonyms sets, configure an index to use synonyms, and run queries that leverage synonyms for enhanced relevancy."
      ]
    },
    {
      "cell_type": "markdown",
      "metadata": {
        "id": "a32202e2"
      },
      "source": [
        "## Create Elastic Cloud deployment\n",
        "\n",
        "If you don't have an Elastic Cloud deployment, sign up [here](https://cloud.elastic.co/registration?utm_source=github&utm_content=elasticsearch-labs-notebook) for a free trial.\n",
        "\n",
        "Once logged in to your Elastic Cloud account, go to the [Create deployment](https://cloud.elastic.co/deployments/create) page and select **Create deployment**. Leave all settings with their default values."
      ]
    },
    {
      "cell_type": "markdown",
      "metadata": {
        "id": "52a6a607"
      },
      "source": [
        "## Install packages and import modules\n",
        "\n",
        "To get started, we'll need to connect to our Elastic deployment using the Python client.\n",
        "Because we're using an Elastic Cloud deployment, we'll use the **Cloud ID** to identify our deployment.\n",
        "\n",
        "First we need to install the `elasticsearch` Python client."
      ]
    },
    {
      "cell_type": "code",
      "execution_count": null,
      "metadata": {
        "colab": {
          "base_uri": "https://localhost:8080/"
        },
        "id": "ffc5fa6f",
        "outputId": "2afe8842-15be-4d34-9e0f-e4de7ffc7a13"
      },
      "outputs": [],
      "source": [
        "!pip install -qU elasticsearch"
      ]
    },
    {
      "cell_type": "markdown",
      "metadata": {
        "id": "0241694c"
      },
      "source": [
        "## Initialize the Elasticsearch client\n",
        "\n",
        "Now we can instantiate the [Elasticsearch python client](https://www.elastic.co/guide/en/elasticsearch/client/python-api/current/index.html), providing the cloud id and password in your deployment."
      ]
    },
    {
      "cell_type": "code",
      "execution_count": null,
      "metadata": {
        "colab": {
          "base_uri": "https://localhost:8080/"
        },
        "id": "f38e0397",
        "outputId": "33239952-fa18-46f0-b4ee-285b0b4054ee"
      },
      "outputs": [],
      "source": [
        "from elasticsearch import Elasticsearch\n",
        "from getpass import getpass\n",
        "\n",
        "CLOUD_ID = getpass(\"Elastic Cloud ID\")\n",
        "CLOUD_PASSWORD = getpass(\"Elastic Password\")\n",
        "\n",
        "# Create the client instance\n",
        "client = Elasticsearch(\n",
        "    cloud_id=CLOUD_ID,\n",
        "    basic_auth=(\"elastic\", CLOUD_PASSWORD)\n",
        ")"
      ]
    },
    {
      "cell_type": "markdown",
      "metadata": {
        "id": "fcd165fa"
      },
      "source": [
        "If you're running Elasticsearch locally or self-managed, you can pass in the Elasticsearch host instead. [Read more](https://www.elastic.co/guide/en/elasticsearch/client/python-api/current/connecting.html#_verifying_https_with_certificate_fingerprints_python_3_10_or_later) on how to connect to Elasticsearch locally."
      ]
    },
    {
      "cell_type": "markdown",
      "metadata": {
        "id": "1462ebd8"
      },
      "source": [
        "Confirm that the client has connected with this test."
      ]
    },
    {
      "cell_type": "code",
      "execution_count": null,
      "metadata": {
        "colab": {
          "base_uri": "https://localhost:8080/"
        },
        "id": "25c618eb",
        "outputId": "9eb26926-d63e-478b-8aa1-8bdb2a5dfbd8"
      },
      "outputs": [],
      "source": [
        "print(client.info())"
      ]
    },
    {
      "cell_type": "markdown",
      "metadata": {
        "id": "_ROfAyq7CL60"
      },
      "source": [
        "## Configure & populate the index\n",
        "\n",
        "Our client is set up and connected to our Elastic deployment. Now we need to configure the index that will store our test data and populate it with some documents. We'll use a small index of books with the following fields:\n",
        "\n",
        "- `title`\n",
        "- `authors`\n",
        "- `publish_date`\n",
        "- `num_reviews`\n",
        "- `publisher`"
      ]
    },
    {
      "cell_type": "markdown",
      "metadata": {
        "id": "-phOM4SOFopW"
      },
      "source": [
        "### Configure the index\n",
        "\n",
        "First ensure that you do not have a previously created index with the name `book_index`."
      ]
    },
    {
      "cell_type": "code",
      "execution_count": null,
      "metadata": {
        "colab": {
          "base_uri": "https://localhost:8080/"
        },
        "id": "pIl2dCpJGu1R",
        "outputId": "294ae0c4-0cc0-45d8-ffd1-541115fdd31a"
      },
      "outputs": [],
      "source": [
        "client.indices.delete(index=\"book_index\", ignore_unavailable=True)"
      ]
    },
    {
      "cell_type": "markdown",
      "metadata": {
        "id": "0fNVJ_JCHe04"
      },
      "source": [
        "🔐 NOTE: at any time you can come back to this section and run the `delete` function above to remove your index and start from scratch.\n",
        "\n",
        "Let's create our initial synonyms set next."
      ]
    },
    {
      "cell_type": "code",
      "execution_count": null,
      "metadata": {
        "colab": {
          "base_uri": "https://localhost:8080/"
        },
        "id": "BCOr2O5CIyqK",
        "outputId": "cf5499e1-13f6-4cc1-aca4-7ac6c65f4975"
      },
      "outputs": [],
      "source": [
        "synonyms_set = [\n",
        "    {\n",
        "        \"id\": \"synonym-1\",\n",
        "        \"synonyms\": \"js, javascript, java script\"\n",
        "    }\n",
        "]\n",
        "\n",
        "client.synonyms.put_synonym(id=\"my-synonyms-set\", synonyms_set=synonyms_set)"
      ]
    },
    {
      "cell_type": "markdown",
      "metadata": {
        "id": "IRMTg7siGykU"
      },
      "source": [
        "\n",
        "\n",
        "In order to use synonyms, we need to define a [custom analyzer](https://www.elastic.co/guide/en/elasticsearch/reference/current/analysis-custom-analyzer.html) that uses the [`synonym`](https://www.elastic.co/guide/en/elasticsearch/reference/current/analysis-synonym-tokenfilter.html) or [`synonym_graph`](https://www.elastic.co/guide/en/elasticsearch/reference/current/analysis-synonym-graph-tokenfilter.html) token filter. Let's create an index that's configured to use an appropriate custom analyzer.\n"
      ]
    },
    {
      "cell_type": "code",
      "execution_count": null,
      "metadata": {
        "colab": {
          "base_uri": "https://localhost:8080/"
        },
        "id": "4AXB9IR8JjCT",
        "outputId": "31d59878-88a8-4294-a727-0271d3890e1c"
      },
      "outputs": [],
      "source": [
        "settings = {\n",
        "    \"analysis\": {\n",
        "        \"analyzer\": {\n",
        "            \"my_custom_index_analyzer\": {\n",
        "                \"tokenizer\": \"standard\",\n",
        "                \"filter\": [\n",
        "                    \"lowercase\"\n",
        "                ]\n",
        "            },\n",
        "            \"my_custom_search_analyzer\": {\n",
        "                \"tokenizer\": \"standard\",\n",
        "                \"filter\": [\n",
        "                    \"lowercase\",\n",
        "                    \"my_synonym_filter\"\n",
        "                ]\n",
        "            }\n",
        "        },\n",
        "        \"filter\": {\n",
        "            \"my_synonym_filter\": {\n",
        "                \"type\": \"synonym_graph\",\n",
        "                \"synonyms_set\": \"my-synonyms-set\",\n",
        "                \"updateable\": True\n",
        "            }\n",
        "        }\n",
        "    }\n",
        "}\n",
        "\n",
        "mappings = {\n",
        "    \"properties\": {\n",
        "        \"title\": {\n",
        "            \"type\": \"text\",\n",
        "            \"analyzer\": \"my_custom_index_analyzer\",\n",
        "            \"search_analyzer\": \"my_custom_search_analyzer\"\n",
        "        },\n",
        "        \"summary\": {\n",
        "            \"type\": \"text\",\n",
        "            \"analyzer\": \"my_custom_index_analyzer\",\n",
        "            \"search_analyzer\": \"my_custom_search_analyzer\"\n",
        "        }\n",
        "    }\n",
        "}\n",
        "\n",
        "client.indices.create(index='book_index', mappings=mappings, settings=settings)"
      ]
    },
    {
      "cell_type": "markdown",
      "metadata": {
        "id": "YYa3kdKvJtZW"
      },
      "source": [
        "There are a few things to note in the configuration:\n",
        "\n",
        "- We are using the `synonym_graph` token filter.\n",
        "- We have defined two analyzers: `my_custom_index_analyzer` and `my_custom_search_analyzer`. `my_custom_search_analyzer` is used as a [search analyzer](https://www.elastic.co/guide/en/elasticsearch/reference/current/search-analyzer.html).\n",
        "- `my_synonym_filter` is used only in `my_custom_search_analyzer`.\n",
        "\n",
        "A configuration like this is used to allow us to a) use multi-word synonyms and b) update synonyms without reindexing.\n",
        "\n",
        "Multi-word synonym handling is an important topic to understand if you want to leverage synonyms to their maximum benefit. See the [the subtleties of Elasticsearch synonyms](https://mauricius.dev/the-subtleties-of-elasticsearch-synonyms/) for more information."
      ]
    },
    {
      "cell_type": "markdown",
      "metadata": {
        "id": "e6uvE1K9GeMm"
      },
      "source": [
        "### Populate the index\n",
        "\n",
        "Run the following command to upload some test data, containing information about 10 popular programming books from this [dataset](https://raw.githubusercontent.com/elastic/elasticsearch-labs/main/notebooks/search/data.json)."
      ]
    },
    {
      "cell_type": "code",
      "execution_count": null,
      "metadata": {
        "colab": {
          "base_uri": "https://localhost:8080/"
        },
        "id": "qX2jo_TzVwqR",
        "outputId": "5a749972-a960-4218-b2df-58060dee265b"
      },
      "outputs": [],
      "source": [
        "import json\n",
        "from urllib.request import urlopen\n",
        "\n",
        "url = \"https://raw.githubusercontent.com/elastic/elasticsearch-labs/main/notebooks/search/data.json\"\n",
        "response = urlopen(url)\n",
        "books = json.loads(response.read())\n",
        "\n",
        "operations = []\n",
        "for book in books:\n",
        "    operations.append({\"index\": {\"_index\": \"book_index\"}})\n",
        "    operations.append(book)\n",
        "client.bulk(index=\"book_index\", operations=operations, refresh=True)"
      ]
    },
    {
      "cell_type": "markdown",
      "metadata": {
        "id": "50ghTAEYV4Yu"
      },
      "source": [
        "## Aside: Pretty printing Elasticsearch search results\n",
        "\n",
        "Your `search` API calls will return hard-to-read nested JSON.\n",
        "We'll create a little function called `pretty_search_response` to return nice, human-readable outputs from our examples."
      ]
    },
    {
      "cell_type": "code",
      "execution_count": 8,
      "metadata": {
        "id": "e1HgqDC4V_HW"
      },
      "outputs": [],
      "source": [
        "def pretty_search_response(response):\n",
        "    if len(response['hits']['hits']) == 0:\n",
        "        print('Your search returned no results.')\n",
        "    else:\n",
        "        for hit in response['hits']['hits']:\n",
        "            id = hit['_id']\n",
        "            publication_date = hit['_source']['publish_date']\n",
        "            score = hit['_score']\n",
        "            title = hit['_source']['title']\n",
        "            summary = hit['_source']['summary']\n",
        "            publisher = hit[\"_source\"][\"publisher\"]\n",
        "            num_reviews = hit[\"_source\"][\"num_reviews\"]\n",
        "            authors = hit[\"_source\"][\"authors\"]\n",
        "            pretty_output = (f\"\\nID: {id}\\nPublication date: {publication_date}\\nTitle: {title}\\nSummary: {summary}\\nPublisher: {publisher}\\nReviews: {num_reviews}\\nAuthors: {authors}\\nScore: {score}\")\n",
        "            print(pretty_output)"
      ]
    },
    {
      "cell_type": "markdown",
      "metadata": {
        "id": "OGwvVLQMW6lA"
      },
      "source": [
        "## Run queries\n",
        "\n",
        "Let's use our synonyms in some Elasticsearch queries. We'll start by searching for books about Javascript."
      ]
    },
    {
      "cell_type": "code",
      "execution_count": null,
      "metadata": {
        "colab": {
          "base_uri": "https://localhost:8080/"
        },
        "id": "KPvOrmTBYDet",
        "outputId": "8d9f3de5-2508-4ca0-91b1-ece5e6099bea"
      },
      "outputs": [],
      "source": [
        "response = client.search(\n",
        "    index=\"book_index\",\n",
        "    query={\n",
        "        \"multi_match\": {\n",
        "            \"query\": \"java script\",\n",
        "            \"fields\": [\n",
        "                \"title^10\",\n",
        "                \"summary\",\n",
        "            ]\n",
        "        }\n",
        "    }\n",
        ")\n",
        "\n",
        "pretty_search_response(response)"
      ]
    },
    {
      "cell_type": "markdown",
      "metadata": {
        "id": "9KFJaht4Yxvh"
      },
      "source": [
        "Notice that even though we searched for the term \"java script\", we got results containing the terms \"JS\" and \"JavaScript\". Our synonyms are working!\n",
        "\n",
        "Now let's try searching for books about AI."
      ]
    },
    {
      "cell_type": "code",
      "execution_count": null,
      "metadata": {
        "colab": {
          "base_uri": "https://localhost:8080/"
        },
        "id": "oj1ynL5nZz0u",
        "outputId": "f1968d2c-83a5-4b3c-f397-44b16e7ab46e"
      },
      "outputs": [],
      "source": [
        "response = client.search(\n",
        "    index=\"book_index\",\n",
        "    query={\n",
        "        \"multi_match\": {\n",
        "            \"query\": \"AI\",\n",
        "            \"fields\": [\n",
        "                \"title^10\",\n",
        "                \"summary\",\n",
        "            ]\n",
        "        }\n",
        "    }\n",
        ")\n",
        "\n",
        "pretty_search_response(response)"
      ]
    },
    {
      "cell_type": "markdown",
      "metadata": {
        "id": "RtXj_JwyZ3DZ"
      },
      "source": [
        "We don't get any results! Let's try using the Synonyms API to add a new synonym rule for AI.\n",
        "\n"
      ]
    },
    {
      "cell_type": "code",
      "execution_count": null,
      "metadata": {
        "colab": {
          "base_uri": "https://localhost:8080/"
        },
        "id": "8sZ4nkpzgwMy",
        "outputId": "d425906a-3f6e-4dc2-89ed-ca6bbef70b0b"
      },
      "outputs": [],
      "source": [
        "client.synonyms.put_synonym_rule(set_id=\"my-synonyms-set\", rule_id=\"synonym-2\", synonyms=\"ai, artificial intelligence\")"
      ]
    },
    {
      "cell_type": "markdown",
      "metadata": {
        "id": "KFgKAma1hMT_"
      },
      "source": [
        "If we run the query again, we should now get some results."
      ]
    },
    {
      "cell_type": "code",
      "execution_count": null,
      "metadata": {
        "colab": {
          "base_uri": "https://localhost:8080/"
        },
        "id": "KDx_V__QhIiy",
        "outputId": "6d23e7f1-e129-4ee7-edf7-8e55ba1d0355"
      },
      "outputs": [],
      "source": [
        "response = client.search(\n",
        "    index=\"book_index\",\n",
        "    query={\n",
        "        \"multi_match\": {\n",
        "            \"query\": \"AI\",\n",
        "            \"fields\": [\n",
        "                \"title^10\",\n",
        "                \"summary\",\n",
        "            ]\n",
        "        }\n",
        "    }\n",
        ")\n",
        "\n",
        "pretty_search_response(response)"
      ]
    }
  ],
  "metadata": {
    "colab": {
      "provenance": []
    },
    "kernelspec": {
      "display_name": "Python 3",
      "name": "python3"
    },
    "language_info": {
      "name": "python"
    }
  },
  "nbformat": 4,
  "nbformat_minor": 0
}
